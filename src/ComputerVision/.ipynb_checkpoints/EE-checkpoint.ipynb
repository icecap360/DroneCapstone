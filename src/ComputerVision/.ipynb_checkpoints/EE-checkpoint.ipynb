{
 "cells": [
  {
   "cell_type": "code",
   "execution_count": 16,
   "id": "1e98a7b1",
   "metadata": {},
   "outputs": [
    {
     "data": {
      "text/plain": [
       "True"
      ]
     },
     "execution_count": 16,
     "metadata": {},
     "output_type": "execute_result"
    }
   ],
   "source": [
    "import requests\n",
    "\n",
    "def get_street_image(latitude, longitude):\n",
    "    API_URL = f'https://static-maps.yandex.ru/1.x/?ll={longitude},{latitude}&z=18&l=sat&size=600,300'\n",
    "    #z is for zoom here and the last 2 numbers are for image pixel dimensions\n",
    "    \n",
    "    response = requests.get(API_URL)\n",
    "    \n",
    "    if response.status_code == 200:\n",
    "        with open(\"street_image.png\", \"wb\") as f:\n",
    "            f.write(response.content)\n",
    "        return True\n",
    "    else:\n",
    "        return False\n",
    "get_street_image(43.253300, -79.869200)"
   ]
  },
  {
   "cell_type": "code",
   "execution_count": null,
   "id": "ebc00633",
   "metadata": {},
   "outputs": [],
   "source": []
  }
 ],
 "metadata": {
  "kernelspec": {
   "display_name": "Python 3 (ipykernel)",
   "language": "python",
   "name": "python3"
  },
  "language_info": {
   "codemirror_mode": {
    "name": "ipython",
    "version": 3
   },
   "file_extension": ".py",
   "mimetype": "text/x-python",
   "name": "python",
   "nbconvert_exporter": "python",
   "pygments_lexer": "ipython3",
   "version": "3.7.9"
  }
 },
 "nbformat": 4,
 "nbformat_minor": 5
}
